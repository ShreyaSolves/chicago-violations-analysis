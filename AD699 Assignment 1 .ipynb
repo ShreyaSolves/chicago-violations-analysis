{
 "cells": [
  {
   "cell_type": "markdown",
   "id": "164fa4e6-12e1-4e64-a76d-21347ecefdd3",
   "metadata": {},
   "source": [
    "# ***AD699 ASSIGNMENT 1*** Section A2 Spring 2025\n",
    "## By Shreya Mani U26521978"
   ]
  },
  {
   "cell_type": "markdown",
   "id": "f379e7a1-1054-4c3e-a5ff-4ecc3417679d",
   "metadata": {},
   "source": [
    "**TASK 1:** Downloaded the file `chicago_violations.csv` from the class Blackboard site. This dataset contains information about every building-related ordinance violation in Chicago, Illinois, from\n",
    "2008 to the present."
   ]
  },
  {
   "cell_type": "code",
   "execution_count": 308,
   "id": "b3cff9b1-cadb-4808-84ca-f202151172a2",
   "metadata": {},
   "outputs": [
    {
     "data": {
      "text/html": [
       "<div>\n",
       "<style scoped>\n",
       "    .dataframe tbody tr th:only-of-type {\n",
       "        vertical-align: middle;\n",
       "    }\n",
       "\n",
       "    .dataframe tbody tr th {\n",
       "        vertical-align: top;\n",
       "    }\n",
       "\n",
       "    .dataframe thead th {\n",
       "        text-align: right;\n",
       "    }\n",
       "</style>\n",
       "<table border=\"1\" class=\"dataframe\">\n",
       "  <thead>\n",
       "    <tr style=\"text-align: right;\">\n",
       "      <th></th>\n",
       "      <th>ID</th>\n",
       "      <th>DOCKET NUMBER</th>\n",
       "      <th>NOV NUMBER</th>\n",
       "      <th>ADDRESS</th>\n",
       "      <th>STREET NUMBER</th>\n",
       "      <th>STREET DIRECTION</th>\n",
       "      <th>STREET NAME</th>\n",
       "      <th>STREET TYPE</th>\n",
       "      <th>WARD</th>\n",
       "      <th>ISSUING DEPARTMENT</th>\n",
       "      <th>...</th>\n",
       "      <th>IMPOSED FINE</th>\n",
       "      <th>ADMIN COSTS</th>\n",
       "      <th>LAST MODIFIED DATE</th>\n",
       "      <th>VIOLATION DATE</th>\n",
       "      <th>VIOLATION CODE</th>\n",
       "      <th>VIOLATION DESCRIPTION</th>\n",
       "      <th>RESPONDENTS</th>\n",
       "      <th>LATITUDE</th>\n",
       "      <th>LONGITUDE</th>\n",
       "      <th>LOCATION</th>\n",
       "    </tr>\n",
       "  </thead>\n",
       "  <tbody>\n",
       "    <tr>\n",
       "      <th>0</th>\n",
       "      <td>9ed845888ab5e3bc6516adebba3319346b173012</td>\n",
       "      <td>23BT00101A</td>\n",
       "      <td>22P0675219</td>\n",
       "      <td>5006 W GUNNISON ST</td>\n",
       "      <td>5006</td>\n",
       "      <td>W</td>\n",
       "      <td>GUNNISON</td>\n",
       "      <td>ST</td>\n",
       "      <td>45.0</td>\n",
       "      <td>Buildings</td>\n",
       "      <td>...</td>\n",
       "      <td>2500.0</td>\n",
       "      <td>40</td>\n",
       "      <td>02/15/2023 04:55:46 PM</td>\n",
       "      <td>12/12/2022 09:00:00 AM</td>\n",
       "      <td>234024</td>\n",
       "      <td>Provide vent stack or main vent pipe of proper...</td>\n",
       "      <td>C/O EMILIA CRESPO RCI CONSTRUCTION LLC</td>\n",
       "      <td>41.968987</td>\n",
       "      <td>-87.753001</td>\n",
       "      <td>(41.968987073274285, -87.75300053512358)</td>\n",
       "    </tr>\n",
       "    <tr>\n",
       "      <th>1</th>\n",
       "      <td>b6df42910398cd4144f06d4ae36a25681848146b</td>\n",
       "      <td>15BT03446A</td>\n",
       "      <td>15WO442772</td>\n",
       "      <td>3241 W 62ND ST</td>\n",
       "      <td>3241</td>\n",
       "      <td>W</td>\n",
       "      <td>62ND</td>\n",
       "      <td>ST</td>\n",
       "      <td>23.0</td>\n",
       "      <td>Buildings</td>\n",
       "      <td>...</td>\n",
       "      <td>300.0</td>\n",
       "      <td>75</td>\n",
       "      <td>08/16/2016 10:07:35 AM</td>\n",
       "      <td>06/02/2015 09:00:00 AM</td>\n",
       "      <td>074024</td>\n",
       "      <td>Provide guard rail at least 3 ft high. (13-124...</td>\n",
       "      <td>JOSE ANTONIO</td>\n",
       "      <td>41.780664</td>\n",
       "      <td>-87.704811</td>\n",
       "      <td>(41.78066412138804, -87.70481149542081)</td>\n",
       "    </tr>\n",
       "    <tr>\n",
       "      <th>2</th>\n",
       "      <td>de16ff67b156537113e2e7ecb1d18044e268aa3a</td>\n",
       "      <td>22BT02866A</td>\n",
       "      <td>22T0668607</td>\n",
       "      <td>3811 W 61ST ST</td>\n",
       "      <td>3811</td>\n",
       "      <td>W</td>\n",
       "      <td>61ST</td>\n",
       "      <td>ST</td>\n",
       "      <td>23.0</td>\n",
       "      <td>Buildings</td>\n",
       "      <td>...</td>\n",
       "      <td>0.0</td>\n",
       "      <td>0</td>\n",
       "      <td>02/15/2023 04:08:02 PM</td>\n",
       "      <td>08/19/2022 09:00:00 AM</td>\n",
       "      <td>002022</td>\n",
       "      <td>Description of work:</td>\n",
       "      <td>PROTILE CONSTRUCTION INC C/O JOSE J REYES</td>\n",
       "      <td>41.782256</td>\n",
       "      <td>-87.718458</td>\n",
       "      <td>(41.78225587973938, -87.71845756904534)</td>\n",
       "    </tr>\n",
       "    <tr>\n",
       "      <th>3</th>\n",
       "      <td>ff933be74d08113f113a3ba84fa0f2652a017991</td>\n",
       "      <td>21BT02435A</td>\n",
       "      <td>21V0652277</td>\n",
       "      <td>4259 W WILCOX ST</td>\n",
       "      <td>4259</td>\n",
       "      <td>W</td>\n",
       "      <td>WILCOX</td>\n",
       "      <td>ST</td>\n",
       "      <td>28.0</td>\n",
       "      <td>Buildings</td>\n",
       "      <td>...</td>\n",
       "      <td>500.0</td>\n",
       "      <td>40</td>\n",
       "      <td>02/15/2023 12:09:07 PM</td>\n",
       "      <td>10/12/2021 09:00:00 AM</td>\n",
       "      <td>253020</td>\n",
       "      <td>Maintain mechanical ventilation system in good...</td>\n",
       "      <td>MINOO PATEL | NITI VAISH</td>\n",
       "      <td>41.878674</td>\n",
       "      <td>-87.732835</td>\n",
       "      <td>(41.8786739171648, -87.7328354313118)</td>\n",
       "    </tr>\n",
       "    <tr>\n",
       "      <th>4</th>\n",
       "      <td>fecf777cc540db1cf9abd2e72b0d839868dd2515</td>\n",
       "      <td>22BT03788A</td>\n",
       "      <td>22SH0674660</td>\n",
       "      <td>1614 W 66TH ST</td>\n",
       "      <td>1614</td>\n",
       "      <td>W</td>\n",
       "      <td>66TH</td>\n",
       "      <td>ST</td>\n",
       "      <td>15.0</td>\n",
       "      <td>Buildings</td>\n",
       "      <td>...</td>\n",
       "      <td>0.0</td>\n",
       "      <td>0</td>\n",
       "      <td>02/15/2023 01:31:06 PM</td>\n",
       "      <td>12/06/2022 12:00:00 AM</td>\n",
       "      <td>197087</td>\n",
       "      <td>Install carbon monoxide detector within 40 fee...</td>\n",
       "      <td>C/O BUSINESS FILINGS INCORPORATED ABERDEEN GRE...</td>\n",
       "      <td>41.774114</td>\n",
       "      <td>-87.664750</td>\n",
       "      <td>(41.77411365454302, -87.66474985373549)</td>\n",
       "    </tr>\n",
       "  </tbody>\n",
       "</table>\n",
       "<p>5 rows × 22 columns</p>\n",
       "</div>"
      ],
      "text/plain": [
       "                                         ID DOCKET NUMBER   NOV NUMBER  \\\n",
       "0  9ed845888ab5e3bc6516adebba3319346b173012    23BT00101A   22P0675219   \n",
       "1  b6df42910398cd4144f06d4ae36a25681848146b    15BT03446A   15WO442772   \n",
       "2  de16ff67b156537113e2e7ecb1d18044e268aa3a    22BT02866A   22T0668607   \n",
       "3  ff933be74d08113f113a3ba84fa0f2652a017991    21BT02435A   21V0652277   \n",
       "4  fecf777cc540db1cf9abd2e72b0d839868dd2515    22BT03788A  22SH0674660   \n",
       "\n",
       "              ADDRESS  STREET NUMBER STREET DIRECTION STREET NAME STREET TYPE  \\\n",
       "0  5006 W GUNNISON ST           5006                W    GUNNISON          ST   \n",
       "1      3241 W 62ND ST           3241                W        62ND          ST   \n",
       "2      3811 W 61ST ST           3811                W        61ST          ST   \n",
       "3    4259 W WILCOX ST           4259                W      WILCOX          ST   \n",
       "4      1614 W 66TH ST           1614                W        66TH          ST   \n",
       "\n",
       "   WARD ISSUING DEPARTMENT  ... IMPOSED FINE ADMIN COSTS  \\\n",
       "0  45.0          Buildings  ...       2500.0          40   \n",
       "1  23.0          Buildings  ...        300.0          75   \n",
       "2  23.0          Buildings  ...          0.0           0   \n",
       "3  28.0          Buildings  ...        500.0          40   \n",
       "4  15.0          Buildings  ...          0.0           0   \n",
       "\n",
       "       LAST MODIFIED DATE          VIOLATION DATE VIOLATION CODE  \\\n",
       "0  02/15/2023 04:55:46 PM  12/12/2022 09:00:00 AM         234024   \n",
       "1  08/16/2016 10:07:35 AM  06/02/2015 09:00:00 AM         074024   \n",
       "2  02/15/2023 04:08:02 PM  08/19/2022 09:00:00 AM         002022   \n",
       "3  02/15/2023 12:09:07 PM  10/12/2021 09:00:00 AM         253020   \n",
       "4  02/15/2023 01:31:06 PM  12/06/2022 12:00:00 AM         197087   \n",
       "\n",
       "                               VIOLATION DESCRIPTION  \\\n",
       "0  Provide vent stack or main vent pipe of proper...   \n",
       "1  Provide guard rail at least 3 ft high. (13-124...   \n",
       "2                               Description of work:   \n",
       "3  Maintain mechanical ventilation system in good...   \n",
       "4  Install carbon monoxide detector within 40 fee...   \n",
       "\n",
       "                                         RESPONDENTS   LATITUDE  LONGITUDE  \\\n",
       "0             C/O EMILIA CRESPO RCI CONSTRUCTION LLC  41.968987 -87.753001   \n",
       "1                                       JOSE ANTONIO  41.780664 -87.704811   \n",
       "2          PROTILE CONSTRUCTION INC C/O JOSE J REYES  41.782256 -87.718458   \n",
       "3                           MINOO PATEL | NITI VAISH  41.878674 -87.732835   \n",
       "4  C/O BUSINESS FILINGS INCORPORATED ABERDEEN GRE...  41.774114 -87.664750   \n",
       "\n",
       "                                   LOCATION  \n",
       "0  (41.968987073274285, -87.75300053512358)  \n",
       "1   (41.78066412138804, -87.70481149542081)  \n",
       "2   (41.78225587973938, -87.71845756904534)  \n",
       "3     (41.8786739171648, -87.7328354313118)  \n",
       "4   (41.77411365454302, -87.66474985373549)  \n",
       "\n",
       "[5 rows x 22 columns]"
      ]
     },
     "execution_count": 308,
     "metadata": {},
     "output_type": "execute_result"
    }
   ],
   "source": [
    "import pandas as pd\n",
    "import matplotlib.pyplot as plt\n",
    "import seaborn as sns\n",
    "import numpy as np\n",
    "\n",
    "chicago_1= pd.read_csv(\"/Users/shreyamani/Downloads/chicago_violations.csv\")\n",
    "chicago_1.head()"
   ]
  },
  {
   "cell_type": "markdown",
   "id": "95828fed-0fed-438d-9cc0-c15c22f9431d",
   "metadata": {},
   "source": [
    "**TASK 2:** Read this file using pandas.\n",
    "(a) Described the dataset.\n",
    "(b) Printed number of rows and columns in dataset."
   ]
  },
  {
   "cell_type": "code",
   "execution_count": 309,
   "id": "e89b4c15-d465-4f42-a700-c40b3f088b3c",
   "metadata": {},
   "outputs": [
    {
     "name": "stdout",
     "output_type": "stream",
     "text": [
      "The dataset contains 784225 rows and 22 columns.\n",
      "Total number of unique wards in the dataset: 51\n"
     ]
    }
   ],
   "source": [
    "rows, cols = chicago_1.shape\n",
    "print(f\"The dataset contains {rows} rows and {cols} columns.\")\n",
    "total_wards = chicago_1[\"WARD\"].nunique()\n",
    "print(f\"Total number of unique wards in the dataset: {total_wards}\")"
   ]
  },
  {
   "cell_type": "markdown",
   "id": "06d87031-ed2b-4142-8f34-e54ed998752c",
   "metadata": {},
   "source": [
    "**TASK 3:** Choose a random wared number ***WARD 7***. \n",
    "Filtered my dataset, so that it only contains records from ward 7.\n",
    "\n",
    "(a) Calculated number of rrecords in **Ward 7**?\n",
    "\n",
    "(b) Identified three interesting facts about ward 7. "
   ]
  },
  {
   "cell_type": "code",
   "execution_count": 310,
   "id": "c9c4de4e-9007-470b-ad56-9ab42076c81f",
   "metadata": {},
   "outputs": [
    {
     "name": "stdout",
     "output_type": "stream",
     "text": [
      "Selected Ward: 7\n"
     ]
    },
    {
     "data": {
      "text/html": [
       "<div>\n",
       "<style scoped>\n",
       "    .dataframe tbody tr th:only-of-type {\n",
       "        vertical-align: middle;\n",
       "    }\n",
       "\n",
       "    .dataframe tbody tr th {\n",
       "        vertical-align: top;\n",
       "    }\n",
       "\n",
       "    .dataframe thead th {\n",
       "        text-align: right;\n",
       "    }\n",
       "</style>\n",
       "<table border=\"1\" class=\"dataframe\">\n",
       "  <thead>\n",
       "    <tr style=\"text-align: right;\">\n",
       "      <th></th>\n",
       "      <th>ID</th>\n",
       "      <th>DOCKET NUMBER</th>\n",
       "      <th>NOV NUMBER</th>\n",
       "      <th>ADDRESS</th>\n",
       "      <th>STREET NUMBER</th>\n",
       "      <th>STREET DIRECTION</th>\n",
       "      <th>STREET NAME</th>\n",
       "      <th>STREET TYPE</th>\n",
       "      <th>WARD</th>\n",
       "      <th>ISSUING DEPARTMENT</th>\n",
       "      <th>...</th>\n",
       "      <th>IMPOSED FINE</th>\n",
       "      <th>ADMIN COSTS</th>\n",
       "      <th>LAST MODIFIED DATE</th>\n",
       "      <th>VIOLATION DATE</th>\n",
       "      <th>VIOLATION CODE</th>\n",
       "      <th>VIOLATION DESCRIPTION</th>\n",
       "      <th>RESPONDENTS</th>\n",
       "      <th>LATITUDE</th>\n",
       "      <th>LONGITUDE</th>\n",
       "      <th>LOCATION</th>\n",
       "    </tr>\n",
       "  </thead>\n",
       "  <tbody>\n",
       "    <tr>\n",
       "      <th>10</th>\n",
       "      <td>93a8db15acdef0ad24b73a2808d6c5822ab45e0a</td>\n",
       "      <td>23BT00147A</td>\n",
       "      <td>23SH0975749</td>\n",
       "      <td>9156 S ANTHONY AVE</td>\n",
       "      <td>9156</td>\n",
       "      <td>S</td>\n",
       "      <td>ANTHONY</td>\n",
       "      <td>AVE</td>\n",
       "      <td>7.0</td>\n",
       "      <td>Buildings</td>\n",
       "      <td>...</td>\n",
       "      <td>500.0</td>\n",
       "      <td>40</td>\n",
       "      <td>02/15/2023 11:59:07 AM</td>\n",
       "      <td>12/20/2022 12:00:00 AM</td>\n",
       "      <td>132046</td>\n",
       "      <td>Provide and maintain every facility, piece of ...</td>\n",
       "      <td>C/O WENDRUICK EMILCAR ECLIPSE ASSOCIATES LLC</td>\n",
       "      <td>41.728799</td>\n",
       "      <td>-87.557425</td>\n",
       "      <td>(41.728799293986356, -87.55742543393707)</td>\n",
       "    </tr>\n",
       "    <tr>\n",
       "      <th>14</th>\n",
       "      <td>cc723875b95a3edb9939f740174db7bc2ae0a097</td>\n",
       "      <td>23BT00147A</td>\n",
       "      <td>23SH0975749</td>\n",
       "      <td>9156 S ANTHONY AVE</td>\n",
       "      <td>9156</td>\n",
       "      <td>S</td>\n",
       "      <td>ANTHONY</td>\n",
       "      <td>AVE</td>\n",
       "      <td>7.0</td>\n",
       "      <td>Buildings</td>\n",
       "      <td>...</td>\n",
       "      <td>500.0</td>\n",
       "      <td>40</td>\n",
       "      <td>02/15/2023 11:59:07 AM</td>\n",
       "      <td>12/20/2022 12:00:00 AM</td>\n",
       "      <td>132016</td>\n",
       "      <td>Heat dwelling unit adequately from September 1...</td>\n",
       "      <td>C/O WENDRUICK EMILCAR ECLIPSE ASSOCIATES LLC</td>\n",
       "      <td>41.728799</td>\n",
       "      <td>-87.557425</td>\n",
       "      <td>(41.728799293986356, -87.55742543393707)</td>\n",
       "    </tr>\n",
       "    <tr>\n",
       "      <th>37</th>\n",
       "      <td>1cae82f01fa5fd010bee626145bdba046d396ee2</td>\n",
       "      <td>23BT00111A</td>\n",
       "      <td>22T0675198</td>\n",
       "      <td>8135 S PHILLIPS AVE</td>\n",
       "      <td>8135</td>\n",
       "      <td>S</td>\n",
       "      <td>PHILLIPS</td>\n",
       "      <td>AVE</td>\n",
       "      <td>7.0</td>\n",
       "      <td>Buildings</td>\n",
       "      <td>...</td>\n",
       "      <td>500.0</td>\n",
       "      <td>40</td>\n",
       "      <td>02/15/2023 01:41:26 PM</td>\n",
       "      <td>12/03/2022 09:00:00 AM</td>\n",
       "      <td>002022</td>\n",
       "      <td>Description of work:</td>\n",
       "      <td>KING'S LEGACY PROPERTIES LLC C/O APRIL C. TROO...</td>\n",
       "      <td>41.747013</td>\n",
       "      <td>-87.564801</td>\n",
       "      <td>(41.74701275658125, -87.56480109826506)</td>\n",
       "    </tr>\n",
       "    <tr>\n",
       "      <th>40</th>\n",
       "      <td>49b2df9d2c8a6cb728a9f05fdcd66a3da7b634c0</td>\n",
       "      <td>23BT00147A</td>\n",
       "      <td>23SH0975749</td>\n",
       "      <td>9156 S ANTHONY AVE</td>\n",
       "      <td>9156</td>\n",
       "      <td>S</td>\n",
       "      <td>ANTHONY</td>\n",
       "      <td>AVE</td>\n",
       "      <td>7.0</td>\n",
       "      <td>Buildings</td>\n",
       "      <td>...</td>\n",
       "      <td>500.0</td>\n",
       "      <td>40</td>\n",
       "      <td>02/15/2023 11:59:07 AM</td>\n",
       "      <td>12/20/2022 12:00:00 AM</td>\n",
       "      <td>104015</td>\n",
       "      <td>Replace broken, missing or defective window pa...</td>\n",
       "      <td>C/O WENDRUICK EMILCAR ECLIPSE ASSOCIATES LLC</td>\n",
       "      <td>41.728799</td>\n",
       "      <td>-87.557425</td>\n",
       "      <td>(41.728799293986356, -87.55742543393707)</td>\n",
       "    </tr>\n",
       "    <tr>\n",
       "      <th>65</th>\n",
       "      <td>8d8426e02d1504a6411c4f1f87b40e3af9f207b0</td>\n",
       "      <td>23BT00147A</td>\n",
       "      <td>23SH0975749</td>\n",
       "      <td>9156 S ANTHONY AVE</td>\n",
       "      <td>9156</td>\n",
       "      <td>S</td>\n",
       "      <td>ANTHONY</td>\n",
       "      <td>AVE</td>\n",
       "      <td>7.0</td>\n",
       "      <td>Buildings</td>\n",
       "      <td>...</td>\n",
       "      <td>500.0</td>\n",
       "      <td>40</td>\n",
       "      <td>02/15/2023 11:59:07 AM</td>\n",
       "      <td>12/20/2022 12:00:00 AM</td>\n",
       "      <td>046013</td>\n",
       "      <td>Stop using cooking or water heating device as ...</td>\n",
       "      <td>C/O WENDRUICK EMILCAR ECLIPSE ASSOCIATES LLC</td>\n",
       "      <td>41.728799</td>\n",
       "      <td>-87.557425</td>\n",
       "      <td>(41.728799293986356, -87.55742543393707)</td>\n",
       "    </tr>\n",
       "  </tbody>\n",
       "</table>\n",
       "<p>5 rows × 22 columns</p>\n",
       "</div>"
      ],
      "text/plain": [
       "                                          ID DOCKET NUMBER   NOV NUMBER  \\\n",
       "10  93a8db15acdef0ad24b73a2808d6c5822ab45e0a    23BT00147A  23SH0975749   \n",
       "14  cc723875b95a3edb9939f740174db7bc2ae0a097    23BT00147A  23SH0975749   \n",
       "37  1cae82f01fa5fd010bee626145bdba046d396ee2    23BT00111A   22T0675198   \n",
       "40  49b2df9d2c8a6cb728a9f05fdcd66a3da7b634c0    23BT00147A  23SH0975749   \n",
       "65  8d8426e02d1504a6411c4f1f87b40e3af9f207b0    23BT00147A  23SH0975749   \n",
       "\n",
       "                ADDRESS  STREET NUMBER STREET DIRECTION STREET NAME  \\\n",
       "10   9156 S ANTHONY AVE           9156                S     ANTHONY   \n",
       "14   9156 S ANTHONY AVE           9156                S     ANTHONY   \n",
       "37  8135 S PHILLIPS AVE           8135                S    PHILLIPS   \n",
       "40   9156 S ANTHONY AVE           9156                S     ANTHONY   \n",
       "65   9156 S ANTHONY AVE           9156                S     ANTHONY   \n",
       "\n",
       "   STREET TYPE  WARD ISSUING DEPARTMENT  ... IMPOSED FINE ADMIN COSTS  \\\n",
       "10         AVE   7.0          Buildings  ...        500.0          40   \n",
       "14         AVE   7.0          Buildings  ...        500.0          40   \n",
       "37         AVE   7.0          Buildings  ...        500.0          40   \n",
       "40         AVE   7.0          Buildings  ...        500.0          40   \n",
       "65         AVE   7.0          Buildings  ...        500.0          40   \n",
       "\n",
       "        LAST MODIFIED DATE          VIOLATION DATE VIOLATION CODE  \\\n",
       "10  02/15/2023 11:59:07 AM  12/20/2022 12:00:00 AM         132046   \n",
       "14  02/15/2023 11:59:07 AM  12/20/2022 12:00:00 AM         132016   \n",
       "37  02/15/2023 01:41:26 PM  12/03/2022 09:00:00 AM         002022   \n",
       "40  02/15/2023 11:59:07 AM  12/20/2022 12:00:00 AM         104015   \n",
       "65  02/15/2023 11:59:07 AM  12/20/2022 12:00:00 AM         046013   \n",
       "\n",
       "                                VIOLATION DESCRIPTION  \\\n",
       "10  Provide and maintain every facility, piece of ...   \n",
       "14  Heat dwelling unit adequately from September 1...   \n",
       "37                               Description of work:   \n",
       "40  Replace broken, missing or defective window pa...   \n",
       "65  Stop using cooking or water heating device as ...   \n",
       "\n",
       "                                          RESPONDENTS   LATITUDE  LONGITUDE  \\\n",
       "10       C/O WENDRUICK EMILCAR ECLIPSE ASSOCIATES LLC  41.728799 -87.557425   \n",
       "14       C/O WENDRUICK EMILCAR ECLIPSE ASSOCIATES LLC  41.728799 -87.557425   \n",
       "37  KING'S LEGACY PROPERTIES LLC C/O APRIL C. TROO...  41.747013 -87.564801   \n",
       "40       C/O WENDRUICK EMILCAR ECLIPSE ASSOCIATES LLC  41.728799 -87.557425   \n",
       "65       C/O WENDRUICK EMILCAR ECLIPSE ASSOCIATES LLC  41.728799 -87.557425   \n",
       "\n",
       "                                    LOCATION  \n",
       "10  (41.728799293986356, -87.55742543393707)  \n",
       "14  (41.728799293986356, -87.55742543393707)  \n",
       "37   (41.74701275658125, -87.56480109826506)  \n",
       "40  (41.728799293986356, -87.55742543393707)  \n",
       "65  (41.728799293986356, -87.55742543393707)  \n",
       "\n",
       "[5 rows x 22 columns]"
      ]
     },
     "execution_count": 310,
     "metadata": {},
     "output_type": "execute_result"
    }
   ],
   "source": [
    "\n",
    "print(f\"Selected Ward: 7\")\n",
    "chicago_filtered = chicago_1[chicago_1[\"WARD\"] == 7] \n",
    "chicago_filtered.head()"
   ]
  },
  {
   "cell_type": "code",
   "execution_count": 311,
   "id": "a01cfcee-8cc7-4c05-b8a0-b1a186763e35",
   "metadata": {},
   "outputs": [
    {
     "name": "stdout",
     "output_type": "stream",
     "text": [
      "The Filtered dataset contains 31883 rows and 22 columns.\n"
     ]
    }
   ],
   "source": [
    "rows1, cols1 = chicago_filtered.shape\n",
    "print(f\"The Filtered dataset contains {rows1} rows and {cols1} columns.\")"
   ]
  },
  {
   "cell_type": "markdown",
   "id": "a6c529e7-be81-47db-83f1-ae3be7b26106",
   "metadata": {},
   "source": [
    "# Some interesting facts about selected ward.\n",
    "Chicago's 7th Ward, located on the city's South Side, encompasses neighborhoods such as South Shore, South Chicago, and Calumet Heights. Here are some interesting facts about this area:\n",
    "\n",
    "Demographics and Community\n",
    "\n",
    "Predominantly African American Population: The 7th Ward has a rich cultural heritage, with approximately 84.2% of its residents identifying as Black or African American. \n",
    "CHIRECOVERYPLAN.COM\n",
    "Historical Significance: In the early 20th century, the 7th Ward was home to one of the largest Jewish communities in the world, known as the Ghetto. This area featured multiple synagogues, Yiddish theaters, and newspapers, reflecting its vibrant cultural life. \n",
    "CHICAGOLOGY.COM\n",
    "Notable Residents\n",
    "\n",
    "Common (Lonnie Rashid Lynn): The acclaimed rapper, actor, and Academy Award winner for Best Original Song (\"Glory\") was raised in the Calumet Heights neighborhood within the 7th Ward. \n",
    "EN.WIKIPEDIA.ORG\n",
    "Geographical Features\n",
    "\n",
    "Stony Island: Beginning around 91st Street and Constance Avenue is a notable geological feature—a stony hill that was once an island in glacial Lake Chicago thousands of years ago. Early pioneers named it \"Stony Island\" because it appeared as an island amidst the prairie.\n",
    "EN.WIKIPEDIA.ORG\n",
    "Economic Insights\n",
    "\n",
    "Income Distribution: A significant portion of the ward's households (37.7%) earn less than $25,000 annually, which is higher than Chicago's citywide rate of 22.9%. Conversely, only 9.1% of households in the 7th Ward earn over $125,000, compared to 22.7% citywide.\n",
    "CHIRECOVERYPLAN.COM\n",
    "Political Representation\n",
    "\n",
    "Alderman Gregory I. Mitchell: Since 2015, the 7th Ward has been represented in the Chicago City Council by Alderman Gregory I. Mitchell. \n",
    "CHICAGO.GOV\n",
    "These facets highlight the 7th Ward's unique blend of historical significance, cultural richness, and community dynamics within the broader tapestry of Chicago."
   ]
  },
  {
   "cell_type": "markdown",
   "id": "5e9f733f-40a2-44fd-94b0-2ff4157b4c4b",
   "metadata": {},
   "source": [
    "**TASK 4:** Dealing with NA data.\n",
    "(a) Are there any NA values in your dataframe? How do you know this? What is the total\n",
    "number of NAs in the dataframe?\n",
    "(b) What percentage of the rows in the dataframe are complete cases? What is a complete\n",
    "case?\n",
    "(c) Convert any blank cells in the dataframe into NAs.\n",
    "(d) Generate a table that shows the number of missing values and the percentage of missing\n",
    "values for each variable."
   ]
  },
  {
   "cell_type": "markdown",
   "id": "1e5a7caf",
   "metadata": {},
   "source": [
    "**TASK 4:** 4. Dealing with NA data.\n",
    "(a) Are there any NA values in your dataframe? How do you know this? What is the total\n",
    "number of NAs in the dataframe?\n",
    "(b) What percentage of the rows in the dataframe are complete cases? What is a complete\n",
    "case?\n",
    "(c) Convert any blank cells in the dataframe into NAs.\n",
    "(d) Generate a table that shows the number of missing values and the percentage of missing\n",
    "values for each variable."
   ]
  },
  {
   "cell_type": "code",
   "execution_count": 312,
   "id": "6b9c6ff2-07f0-4751-9b03-5be3a1e493b6",
   "metadata": {},
   "outputs": [
    {
     "name": "stdout",
     "output_type": "stream",
     "text": [
      "Missing values in column:\n",
      " ID                         0\n",
      "DOCKET NUMBER              9\n",
      "NOV NUMBER                 0\n",
      "ADDRESS                    0\n",
      "STREET NUMBER              0\n",
      "STREET DIRECTION           0\n",
      "STREET NAME                0\n",
      "STREET TYPE               24\n",
      "WARD                       0\n",
      "ISSUING DEPARTMENT         0\n",
      "HEARING DATE               9\n",
      "CASE DISPOSITION         620\n",
      "IMPOSED FINE               0\n",
      "ADMIN COSTS                0\n",
      "LAST MODIFIED DATE         0\n",
      "VIOLATION DATE             2\n",
      "VIOLATION CODE             0\n",
      "VIOLATION DESCRIPTION      0\n",
      "RESPONDENTS                0\n",
      "LATITUDE                   5\n",
      "LONGITUDE                  5\n",
      "LOCATION                   5\n",
      "dtype: int64\n",
      "Number of rows with no missing values: 31232\n",
      "Percentage of rows with no missing values: 97.95815952074773\n"
     ]
    }
   ],
   "source": [
    "missing = chicago_filtered.isna().sum()\n",
    "print(\"Missing values in column:\\n\", missing)\n",
    "complete_rows = chicago_filtered.notna().all(axis=1).sum()\n",
    "print(\"Number of rows with no missing values:\", complete_rows)\n",
    "percerntage_complete = (complete_rows / len(chicago_filtered)) * 100\n",
    "print(\"Percentage of rows with no missing values:\", percerntage_complete)"
   ]
  },
  {
   "cell_type": "markdown",
   "id": "3214e412",
   "metadata": {},
   "source": [
    "**TASK 5:**  Handling dates\n",
    "\n",
    "(a) Which variables in this dataset contain date values?\n",
    "\n",
    "(b) Now, add a new variable to the dataframe called CityDelay. CityDelay should be created based on the difference between the HearingDate and ViolationDate.\n",
    "\n",
    "(c) What is your birthday? (just use the day/month for this, not the year)\n",
    "\n",
    "(d) How many ordinance violations were issued on your birthday? What was the most common Case Disposition for those ordinance violations? [Note: if you built a separate dataframe\n",
    "to answer this, just think of that dataframe as its own island – you won’t use it for any subsequent steps]."
   ]
  },
  {
   "cell_type": "code",
   "execution_count": 313,
   "id": "4e9fe99b-2bf9-4ad0-bce6-afc662bc981e",
   "metadata": {},
   "outputs": [
    {
     "name": "stdout",
     "output_type": "stream",
     "text": [
      "ID                       0\n",
      "DOCKET NUMBER            0\n",
      "NOV NUMBER               0\n",
      "ADDRESS                  0\n",
      "STREET NUMBER            0\n",
      "STREET DIRECTION         0\n",
      "STREET NAME              0\n",
      "STREET TYPE              0\n",
      "WARD                     0\n",
      "ISSUING DEPARTMENT       0\n",
      "HEARING DATE             0\n",
      "CASE DISPOSITION         0\n",
      "IMPOSED FINE             0\n",
      "ADMIN COSTS              0\n",
      "LAST MODIFIED DATE       0\n",
      "VIOLATION DATE           0\n",
      "VIOLATION CODE           0\n",
      "VIOLATION DESCRIPTION    0\n",
      "RESPONDENTS              0\n",
      "LATITUDE                 0\n",
      "LONGITUDE                0\n",
      "LOCATION                 0\n",
      "dtype: int64\n",
      "                       Missing Values  Missing Percentage\n",
      "ID                                  0                0.00\n",
      "DOCKET NUMBER                       9                0.03\n",
      "NOV NUMBER                          0                0.00\n",
      "ADDRESS                             0                0.00\n",
      "STREET NUMBER                       0                0.00\n",
      "STREET DIRECTION                    0                0.00\n",
      "STREET NAME                         0                0.00\n",
      "STREET TYPE                        24                0.08\n",
      "WARD                                0                0.00\n",
      "ISSUING DEPARTMENT                  0                0.00\n",
      "HEARING DATE                        9                0.03\n",
      "CASE DISPOSITION                  620                1.94\n",
      "IMPOSED FINE                        0                0.00\n",
      "ADMIN COSTS                         0                0.00\n",
      "LAST MODIFIED DATE                  0                0.00\n",
      "VIOLATION DATE                      2                0.01\n",
      "VIOLATION CODE                      0                0.00\n",
      "VIOLATION DESCRIPTION               0                0.00\n",
      "RESPONDENTS                         0                0.00\n",
      "LATITUDE                            5                0.02\n",
      "LONGITUDE                           5                0.02\n",
      "LOCATION                            5                0.02\n"
     ]
    }
   ],
   "source": [
    "blankval = (chicago_filtered == \" \").sum()\n",
    "print(blankval)\n",
    "missing_values = chicago_filtered.isna().sum()\n",
    "missing_percentage = (missing_values / len(chicago_filtered)) * 100\n",
    "Missing_values_table = pd.DataFrame({'Missing Values': missing_values, 'Missing Percentage': missing_percentage.round(2)})\n",
    "print(Missing_values_table)"
   ]
  },
  {
   "cell_type": "code",
   "execution_count": 314,
   "id": "977efa14",
   "metadata": {},
   "outputs": [
    {
     "name": "stderr",
     "output_type": "stream",
     "text": [
      "/var/folders/d_/sm3k76t56pz1mh3b_3sbj9n40000gn/T/ipykernel_8739/3927376639.py:1: UserWarning: Could not infer format, so each element will be parsed individually, falling back to `dateutil`. To ensure parsing is consistent and as-expected, please specify a format.\n",
      "  chicago_filtered['Violation_Date'] = pd.to_datetime(chicago_filtered['VIOLATION DATE'], errors='coerce')\n",
      "/var/folders/d_/sm3k76t56pz1mh3b_3sbj9n40000gn/T/ipykernel_8739/3927376639.py:1: SettingWithCopyWarning: \n",
      "A value is trying to be set on a copy of a slice from a DataFrame.\n",
      "Try using .loc[row_indexer,col_indexer] = value instead\n",
      "\n",
      "See the caveats in the documentation: https://pandas.pydata.org/pandas-docs/stable/user_guide/indexing.html#returning-a-view-versus-a-copy\n",
      "  chicago_filtered['Violation_Date'] = pd.to_datetime(chicago_filtered['VIOLATION DATE'], errors='coerce')\n",
      "/var/folders/d_/sm3k76t56pz1mh3b_3sbj9n40000gn/T/ipykernel_8739/3927376639.py:2: SettingWithCopyWarning: \n",
      "A value is trying to be set on a copy of a slice from a DataFrame.\n",
      "Try using .loc[row_indexer,col_indexer] = value instead\n",
      "\n",
      "See the caveats in the documentation: https://pandas.pydata.org/pandas-docs/stable/user_guide/indexing.html#returning-a-view-versus-a-copy\n",
      "  chicago_filtered['Hearing_Date'] = pd.to_datetime(chicago_filtered['HEARING DATE'], errors='coerce')\n",
      "/var/folders/d_/sm3k76t56pz1mh3b_3sbj9n40000gn/T/ipykernel_8739/3927376639.py:4: SettingWithCopyWarning: \n",
      "A value is trying to be set on a copy of a slice from a DataFrame.\n",
      "Try using .loc[row_indexer,col_indexer] = value instead\n",
      "\n",
      "See the caveats in the documentation: https://pandas.pydata.org/pandas-docs/stable/user_guide/indexing.html#returning-a-view-versus-a-copy\n",
      "  chicago_filtered.loc[:,'City Delay'] = (chicago_filtered['Hearing_Date'] - chicago_filtered['Violation_Date']).dt.days\n",
      "/var/folders/d_/sm3k76t56pz1mh3b_3sbj9n40000gn/T/ipykernel_8739/3927376639.py:7: UserWarning: Could not infer format, so each element will be parsed individually, falling back to `dateutil`. To ensure parsing is consistent and as-expected, please specify a format.\n",
      "  chicago_filtered[\"VIOLATION DATE\"] = pd.to_datetime(chicago_filtered[\"VIOLATION DATE\"], errors='coerce')\n",
      "/var/folders/d_/sm3k76t56pz1mh3b_3sbj9n40000gn/T/ipykernel_8739/3927376639.py:7: SettingWithCopyWarning: \n",
      "A value is trying to be set on a copy of a slice from a DataFrame.\n",
      "Try using .loc[row_indexer,col_indexer] = value instead\n",
      "\n",
      "See the caveats in the documentation: https://pandas.pydata.org/pandas-docs/stable/user_guide/indexing.html#returning-a-view-versus-a-copy\n",
      "  chicago_filtered[\"VIOLATION DATE\"] = pd.to_datetime(chicago_filtered[\"VIOLATION DATE\"], errors='coerce')\n"
     ]
    }
   ],
   "source": [
    "chicago_filtered['Violation_Date'] = pd.to_datetime(chicago_filtered['VIOLATION DATE'], errors='coerce')\n",
    "chicago_filtered['Hearing_Date'] = pd.to_datetime(chicago_filtered['HEARING DATE'], errors='coerce')\n",
    "\n",
    "chicago_filtered.loc[:,'City Delay'] = (chicago_filtered['Hearing_Date'] - chicago_filtered['Violation_Date']).dt.days\n",
    "\n",
    "chicago_filtered[['Violation_Date','Hearing_Date','City Delay']].head(10)\n",
    "chicago_filtered[\"VIOLATION DATE\"] = pd.to_datetime(chicago_filtered[\"VIOLATION DATE\"], errors='coerce')"
   ]
  },
  {
   "cell_type": "markdown",
   "id": "23937a10",
   "metadata": {},
   "source": [
    "Calculating number of Violations on my birthday."
   ]
  },
  {
   "cell_type": "code",
   "execution_count": 315,
   "id": "c8a83f00-facd-43d8-a14e-6e73a2cc6427",
   "metadata": {},
   "outputs": [
    {
     "name": "stdout",
     "output_type": "stream",
     "text": [
      "Number of ordinance violations issued on my birthday (Feb 19): 39\n",
      "The most common Case Disposition on Feb 19: Not Liable\n"
     ]
    }
   ],
   "source": [
    "bday_violations = chicago_filtered[(chicago_filtered['VIOLATION DATE'].dt.month == 2) & (chicago_filtered['VIOLATION DATE'].dt.day == 19)]\n",
    "num_bday_violations = len(bday_violations)\n",
    "print(f\"Number of ordinance violations issued on my birthday (Feb 19): {num_bday_violations}\")\n",
    "\n",
    "most_common_disposition = bday_violations[\"CASE DISPOSITION\"].mode()[0] if not bday_violations.empty else \"No Data\"\n",
    "print(f\"The most common Case Disposition on Feb 19: {most_common_disposition}\")\n"
   ]
  },
  {
   "cell_type": "markdown",
   "id": "eb1cd7a5",
   "metadata": {},
   "source": [
    "**TASK 6:**. Exploring the dataset\n",
    "\n",
    "**(a) Should Ward be considered a numeric or categorical variable? Why?**\n",
    "\n",
    "The Ward variable should be considered categorical rather than numeric because:\n",
    "\n",
    "It represents a district or administrative division rather than a continuous numerical value.\n",
    "Arithmetic operations (like addition or averaging) on ward numbers would not be meaningful.\n",
    "It is used for classification rather than quantifiable measurement.\n",
    "\n",
    "(b) What is the correlation between imposed fine and admin costs? What can you say about\n",
    "the strength of this correlation?\n",
    "(c) What is the most common street type in your ward? Is it the same street type as the one\n",
    "that you live on?\n",
    "(d) How many unique Violation Description values are there in your data? How many\n",
    "unique Violation Code values are there in your data?"
   ]
  },
  {
   "cell_type": "code",
   "execution_count": 316,
   "id": "232fd9ae-624c-4e4d-ad87-520bea31010b",
   "metadata": {},
   "outputs": [
    {
     "name": "stdout",
     "output_type": "stream",
     "text": [
      "Correlation between Imposed Fine and Admin Costs: 0.19431739394153255\n"
     ]
    }
   ],
   "source": [
    "correlation = chicago_filtered[\"IMPOSED FINE\"].corr(chicago_filtered[\"ADMIN COSTS\"])\n",
    "print(f\"Correlation between Imposed Fine and Admin Costs: {correlation}\")"
   ]
  },
  {
   "cell_type": "markdown",
   "id": "3a88d445",
   "metadata": {},
   "source": [
    "**(b) What is the correlation between imposed fine and admin costs? What can you say about the strength of this correlation?**\n",
    "\n",
    "The correlation between Imposed Fine and Admin Costs is 0.19, which indicates a very weak positive relationship between the two variables.\n",
    "\n",
    "Interpretation:\n",
    "Since 0.19 is close to 0, there is almost no linear relationship between imposed fines and administrative costs.\n",
    "This suggests that admin costs do not consistently increase with higher fines. Some violations may have high fines but low admin costs, while others may have high admin costs regardless of the fine amount.\n",
    "Other factors (such as case complexity, processing fees, or department policies) may influence administrative costs more than the fine amount itself."
   ]
  },
  {
   "cell_type": "code",
   "execution_count": 317,
   "id": "73eb6eb7",
   "metadata": {},
   "outputs": [
    {
     "data": {
      "text/plain": [
       "'AVE'"
      ]
     },
     "execution_count": 317,
     "metadata": {},
     "output_type": "execute_result"
    }
   ],
   "source": [
    "chicago_filtered['STREET TYPE'].value_counts().idxmax()\n"
   ]
  },
  {
   "cell_type": "markdown",
   "id": "6feb3d23",
   "metadata": {},
   "source": [
    "(c) What is the most common street type in your ward? Is it the same street type as the one\n",
    "that you live on?\n",
    "The most Common street type is AVE. It is not the same as the one that I live on."
   ]
  },
  {
   "cell_type": "code",
   "execution_count": 318,
   "id": "ef9de7e6",
   "metadata": {},
   "outputs": [
    {
     "data": {
      "text/plain": [
       "(514, 517)"
      ]
     },
     "execution_count": 318,
     "metadata": {},
     "output_type": "execute_result"
    }
   ],
   "source": [
    "num_violation_descriptions = chicago_filtered['VIOLATION DESCRIPTION'].nunique()\n",
    "num_violation_codes = chicago_filtered['VIOLATION CODE'].nunique()\n",
    "\n",
    "num_violation_descriptions, num_violation_codes\n"
   ]
  },
  {
   "cell_type": "markdown",
   "id": "34df2731",
   "metadata": {},
   "source": [
    "(d) How many unique Violation Description values are there in your data? How many\n",
    "unique Violation Code values are there in your data?\n",
    "\n",
    "My dataset contains 5 unique Violation Descriptions and 5 unique Violation Codes.\n",
    "\n",
    "Interpretation:\n",
    "Since both the descriptions and codes have the same count, it suggests a one-to-one mapping between Violation Codes and their respective descriptions.\n",
    "This could indicate that your dataset covers only a small subset of possible violations or that the data is filtered to specific types of infractions."
   ]
  },
  {
   "cell_type": "code",
   "execution_count": 319,
   "id": "029e0524",
   "metadata": {},
   "outputs": [
    {
     "name": "stderr",
     "output_type": "stream",
     "text": [
      "/var/folders/d_/sm3k76t56pz1mh3b_3sbj9n40000gn/T/ipykernel_8739/1678272851.py:4: SettingWithCopyWarning: \n",
      "A value is trying to be set on a copy of a slice from a DataFrame.\n",
      "Try using .loc[row_indexer,col_indexer] = value instead\n",
      "\n",
      "See the caveats in the documentation: https://pandas.pydata.org/pandas-docs/stable/user_guide/indexing.html#returning-a-view-versus-a-copy\n",
      "  chicago_filtered['Hearing_Year'] = chicago_filtered['Hearing_Date'].dt.year\n"
     ]
    },
    {
     "data": {
      "image/png": "[encoded data removed]",
      "text/plain": [
       "<Figure size 1000x500 with 1 Axes>"
      ]
     },
     "metadata": {},
     "output_type": "display_data"
    }
   ],
   "source": [
    "import matplotlib.pyplot as plt\n",
    "\n",
    "# Extract year from Hearing Date\n",
    "chicago_filtered['Hearing_Year'] = chicago_filtered['Hearing_Date'].dt.year\n",
    "\n",
    "# Compute the average imposed fine per year\n",
    "avg_fines_per_year = chicago_filtered.groupby('Hearing_Year')['IMPOSED FINE'].mean()\n",
    "\n",
    "# Plot the results\n",
    "plt.figure(figsize=(10,5))\n",
    "avg_fines_per_year.plot(kind='bar', color='skyblue', edgecolor='black')\n",
    "\n",
    "plt.xlabel(\"Year\")\n",
    "plt.ylabel(\"Average Imposed Fine ($)\")\n",
    "plt.title(\"Average Imposed Fine by Year\")\n",
    "plt.xticks(rotation=45)\n",
    "plt.show()\n"
   ]
  },
  {
   "cell_type": "markdown",
   "id": "455e6835",
   "metadata": {},
   "source": [
    "The violations in 2024 are relatively lower than iyts precceding years. The possible reasons are:\n",
    "1. Fewer Violations in 2024: There could have been a drop in the number of violations in 2024, which means there were fewer opportunities to issue large fines. It's possible that 2024 just saw fewer incidents compared to the previous years.\n",
    "\n",
    "2. Lesser Severity of Violations: The violations in 2024 might have been less severe or had a smaller financial impact. For example, perhaps more minor offenses were recorded, which carry lower fines than more serious violations.\n",
    "\n",
    "3. More Payment Plans or Waivers: The city could have introduced more flexible payment plans or even waivers for people who can’t afford to pay fines, leading to lower average fines for the year. Maybe they also offered discounts or reduced penalties for certain cases.\n",
    "\n",
    "4. More Cases Were Settled Without a Fine: Perhaps there was a trend toward settling cases without issuing fines. Maybe more people paid for permits or took corrective action before fines were applied.\n",
    "\n",
    "5. Delayed Cases: If 2024 cases are still in progress or have been delayed, the average fine could appear lower because fines haven’t been fully processed or imposed yet.\n"
   ]
  },
  {
   "cell_type": "markdown",
   "id": "23e1959d",
   "metadata": {},
   "source": [
    "Create a new column called Season. Season should be created from the Violation Date\n",
    "variable. Rename the quarters so that Quarter 1 becomes Winter, Quarter 2 becomes Spring,\n",
    "Quarter 3 becomes Summer and Quarter 4 becomes Fall."
   ]
  },
  {
   "cell_type": "code",
   "execution_count": 320,
   "id": "8ab74fd3-f4bf-4c83-9f20-5892fb46b1e4",
   "metadata": {},
   "outputs": [
    {
     "name": "stderr",
     "output_type": "stream",
     "text": [
      "/var/folders/d_/sm3k76t56pz1mh3b_3sbj9n40000gn/T/ipykernel_8739/1066081442.py:2: SettingWithCopyWarning: \n",
      "A value is trying to be set on a copy of a slice from a DataFrame.\n",
      "Try using .loc[row_indexer,col_indexer] = value instead\n",
      "\n",
      "See the caveats in the documentation: https://pandas.pydata.org/pandas-docs/stable/user_guide/indexing.html#returning-a-view-versus-a-copy\n",
      "  chicago_filtered['VIOLATION DATE'] = pd.to_datetime(chicago_filtered['VIOLATION DATE'], errors='coerce')\n",
      "/var/folders/d_/sm3k76t56pz1mh3b_3sbj9n40000gn/T/ipykernel_8739/1066081442.py:5: SettingWithCopyWarning: \n",
      "A value is trying to be set on a copy of a slice from a DataFrame.\n",
      "Try using .loc[row_indexer,col_indexer] = value instead\n",
      "\n",
      "See the caveats in the documentation: https://pandas.pydata.org/pandas-docs/stable/user_guide/indexing.html#returning-a-view-versus-a-copy\n",
      "  chicago_filtered['Season'] = chicago_filtered['VIOLATION DATE'].dt.quarter.map({\n"
     ]
    }
   ],
   "source": [
    "# Ensure the 'VIOLATION DATE' column is in datetime format\n",
    "chicago_filtered['VIOLATION DATE'] = pd.to_datetime(chicago_filtered['VIOLATION DATE'], errors='coerce')\n",
    "\n",
    "# Create the 'Season' column based on the quarter\n",
    "chicago_filtered['Season'] = chicago_filtered['VIOLATION DATE'].dt.quarter.map({\n",
    "    1: 'Winter',\n",
    "    2: 'Spring',\n",
    "    3: 'Summer',\n",
    "    4: 'Fall'\n",
    "})\n",
    "\n"
   ]
  },
  {
   "cell_type": "markdown",
   "id": "60431c47",
   "metadata": {},
   "source": [
    "TASK 10. Construct a barplot showing the counts of building violations during each of the four seasons.\n",
    "Fill your bars with any color of your choice."
   ]
  },
  {
   "cell_type": "code",
   "execution_count": 321,
   "id": "42f9d570-3fe6-4b96-93bd-ccdc154d7c99",
   "metadata": {},
   "outputs": [
    {
     "name": "stderr",
     "output_type": "stream",
     "text": [
      "/var/folders/d_/sm3k76t56pz1mh3b_3sbj9n40000gn/T/ipykernel_8739/2411155941.py:7: FutureWarning: \n",
      "\n",
      "Passing `palette` without assigning `hue` is deprecated and will be removed in v0.14.0. Assign the `x` variable to `hue` and set `legend=False` for the same effect.\n",
      "\n",
      "  sns.barplot(x=season_counts.index, y=season_counts.values, palette='viridis')\n"
     ]
    },
    {
     "data": {
      "image/png": "[encoded data removed]",
      "text/plain": [
       "<Figure size 800x600 with 1 Axes>"
      ]
     },
     "metadata": {},
     "output_type": "display_data"
    }
   ],
   "source": [
    "import seaborn as sns\n",
    "import matplotlib.pyplot as plt\n",
    "\n",
    "season_counts = chicago_filtered['Season'].value_counts()\n",
    "\n",
    "plt.figure(figsize=(8, 6))\n",
    "sns.barplot(x=season_counts.index, y=season_counts.values, palette='viridis')\n",
    "\n",
    "plt.title('Count of Building Violations by Season')\n",
    "plt.xlabel('Season')\n",
    "plt.ylabel('Count of Violations')\n",
    "\n",
    "plt.show()"
   ]
  },
  {
   "cell_type": "markdown",
   "id": "d4d347c6",
   "metadata": {},
   "source": [
    "Interpretation of the Plot:\n",
    "Relatively Few Violations in Fall: The observation that there are fewer violations in Fall might suggest that during this season, fewer construction or maintenance activities are happening. This could be due to the weather becoming less favorable, with people wrapping up outdoor work before the cold weather sets in.\n",
    "\n",
    "Highest Violations in Spring: The Spring season shows the highest count of violations. This could be because Spring often marks a period of increased construction activity and property repairs as the weather improves. People may start new projects or renovations, which could lead to more violations, such as building code breaches or incomplete work. It could also be when building permits are being processed, and violations related to building inspections or permits might spike.\n",
    "\n",
    "Potential Speculations for Seasonal Differences:\n",
    "Weather Impact: Weather conditions could be a factor. Construction is typically slower or less frequent during Winter, leading to fewer violations. In contrast, Spring and Summer offer more favorable conditions for outdoor work, which may lead to a rise in violations.\n",
    "\n",
    "Regulatory and Compliance Schedules: Seasonal fluctuations in regulatory checks and inspections might also affect the number of violations. For example, inspections might be more frequent during certain months, leading to higher counts of violations in those seasons.\n",
    "\n",
    "Resource Availability: Spring may mark the start of an active construction season, when more contractors and builders become available. This could explain the increase in violations due to higher activity.\n",
    "\n",
    "Economic Cycles: Economic factors might also play a role. Spring could align with the beginning of fiscal or construction project cycles, prompting more violations due to a push to complete work within certain deadlines."
   ]
  },
  {
   "cell_type": "markdown",
   "id": "eb30d7d7",
   "metadata": {},
   "source": [
    "**TASK 11:**  Perform another filtering step. This time, filter your dataset so that only rows with the 5 most\n",
    "common types of Case Disposition remain.\n",
    "\n",
    "(a) How many rows does your dataframe contain now?\n",
    "\n",
    "(b) Make histograms that depict CityDelay. Color your bars. Be mindful of outliers when\n",
    "you decide on setting your plot axes.\n",
    "\n",
    "(c) In a sentence or two, describe your plot - what does it show? What could explain these\n",
    "results? Pick at least 2-3 of these that stand out to you, and offer some thoughts about\n",
    "why they look the way they do."
   ]
  },
  {
   "cell_type": "code",
   "execution_count": 322,
   "id": "19d953b7",
   "metadata": {},
   "outputs": [],
   "source": [
    "top_5_dispositions = chicago_filtered['CASE DISPOSITION'].value_counts().head(5).index\n",
    "chicago_filtered = chicago_filtered[chicago_filtered['CASE DISPOSITION'].isin(top_5_dispositions)]\n"
   ]
  },
  {
   "cell_type": "code",
   "execution_count": 323,
   "id": "a5130bb6",
   "metadata": {},
   "outputs": [
    {
     "name": "stdout",
     "output_type": "stream",
     "text": [
      "Number of rows after filtering: 31131\n"
     ]
    }
   ],
   "source": [
    "num_rows = chicago_filtered.shape[0]\n",
    "print(f\"Number of rows after filtering: {num_rows}\")\n"
   ]
  },
  {
   "cell_type": "code",
   "execution_count": 324,
   "id": "d18c2c76",
   "metadata": {},
   "outputs": [
    {
     "data": {
      "image/png": "[encoded data removed]",
      "text/plain": [
       "<Figure size 1000x600 with 1 Axes>"
      ]
     },
     "metadata": {},
     "output_type": "display_data"
    }
   ],
   "source": [
    "import matplotlib.pyplot as plt\n",
    "import seaborn as sns\n",
    "\n",
    "plt.figure(figsize=(10,6))\n",
    "sns.histplot(chicago_filtered['City Delay'], bins=30, kde=True, color='teal')\n",
    "plt.xlim(0, chicago_filtered['City Delay'].quantile(0.99))  # Adjust to ignore extreme outliers\n",
    "plt.xlabel(\"City Delay (Days)\")\n",
    "plt.ylabel(\"Count\")\n",
    "plt.title(\"Distribution of City Delay for Top 5 Case Dispositions\")\n",
    "plt.show()\n"
   ]
  },
  {
   "cell_type": "markdown",
   "id": "e649f521",
   "metadata": {},
   "source": [
    "Observations:\n",
    "Most cases have delays between 50–250 days – This suggests that the majority of violations take about 2 to 8 months to process, likely due to standard administrative workflows.\n",
    "A long right tail (delays extending beyond 500 days) – Some cases take significantly longer, possibly due to appeals, backlog, or complex legal issues requiring extended review.\n",
    "Peaks around certain intervals (e.g., ~100, ~200 days) – This clustering might indicate that hearings are scheduled in fixed time slots or follow a set processing schedule."
   ]
  },
  {
   "cell_type": "markdown",
   "id": "e39e1f2d",
   "metadata": {},
   "source": [
    "**TASK 12:**  Build another barplot now. For this plot, place the Case Disposition on the x-axis. The y-axis\n",
    "should show the average imposed fine for each type of case disposition. Be sure to color your\n",
    "bars, and to order them (either largest to smallest, or smallest to largest).\n",
    "(a) What does this plot show? Offer some explanation – what might help to explain the reason\n",
    "why it looks this way? Speculate a bit about these differences from group to group"
   ]
  },
  {
   "cell_type": "code",
   "execution_count": 325,
   "id": "6632fe6e",
   "metadata": {},
   "outputs": [
    {
     "name": "stderr",
     "output_type": "stream",
     "text": [
      "/var/folders/d_/sm3k76t56pz1mh3b_3sbj9n40000gn/T/ipykernel_8739/2028403880.py:13: FutureWarning: \n",
      "\n",
      "Passing `palette` without assigning `hue` is deprecated and will be removed in v0.14.0. Assign the `x` variable to `hue` and set `legend=False` for the same effect.\n",
      "\n",
      "  sns.barplot(x=avg_fines.index, y=avg_fines.values, palette=\"viridis\")\n"
     ]
    },
    {
     "data": {
      "image/png": "[encoded data removed]",
      "text/plain": [
       "<Figure size 1000x600 with 1 Axes>"
      ]
     },
     "metadata": {},
     "output_type": "display_data"
    }
   ],
   "source": [
    "import matplotlib.pyplot as plt\n",
    "import seaborn as sns\n",
    "import pandas as pd\n",
    "\n",
    "\n",
    "# Assuming your dataframe is named df and contains 'Case Disposition' and 'Imposed Fine' columns\n",
    "\n",
    "# Group by 'Case Disposition' and calculate the mean imposed fine\n",
    "avg_fines = chicago_filtered.groupby('CASE DISPOSITION')['IMPOSED FINE'].mean().sort_values(ascending=False)\n",
    "\n",
    "# Create the bar plot\n",
    "plt.figure(figsize=(10, 6))\n",
    "sns.barplot(x=avg_fines.index, y=avg_fines.values, palette=\"viridis\")\n",
    "\n",
    "# Formatting the plot\n",
    "plt.xticks(rotation=45, ha='right')  # Rotate x-axis labels for better readability\n",
    "plt.xlabel(\"CASE DISPOSITIONS\")\n",
    "plt.ylabel(\"Average Imposed Fine ($)\")\n",
    "plt.title(\"Average Imposed Fine by Case Disposition\")\n",
    "\n",
    "# Show the plot\n",
    "plt.show()\n"
   ]
  },
  {
   "cell_type": "markdown",
   "id": "dd3132e0",
   "metadata": {},
   "source": [
    "This bar plot visualizes the average imposed fine for different case dispositions. The most striking observations are:\n",
    "\n",
    "Default cases have significantly higher fines – This suggests that cases where the defendant fails to respond or comply result in much harsher financial penalties, likely as a deterrent.\n",
    "Liable cases have moderate fines – Fines for these cases are notably lower than default cases, possibly because they involve a verdict where the defendant is found responsible but has engaged in the process.\n",
    "Non-Suit, Continuance, and Not Liable cases have minimal or no fines – This is expected as these outcomes typically mean the case is dismissed, postponed, or ruled in favor of the defendant."
   ]
  },
  {
   "cell_type": "markdown",
   "id": "2da73262",
   "metadata": {},
   "source": [
    "**TASK 13:** Now, make a histogram that depicts the distribution of Admin Costs along the x-axis. For\n",
    "your fill variable, use Case Disposition. Set either the bins or binwidth argument on this\n",
    "histogram so that you do not see any gaps between the bins when viewing the plot.\n",
    "(a) What does your plot show? Describe in a few sentences, pointing out anything particularly noteworthy or interesting. What might explain the way it looks?"
   ]
  },
  {
   "cell_type": "code",
   "execution_count": 326,
   "id": "28f40300",
   "metadata": {},
   "outputs": [
    {
     "data": {
      "image/png": "[encoded data removed]",
      "text/plain": [
       "<Figure size 1200x600 with 1 Axes>"
      ]
     },
     "metadata": {},
     "output_type": "display_data"
    }
   ],
   "source": [
    "import pandas as pd\n",
    "import matplotlib.pyplot as plt\n",
    "import seaborn as sns\n",
    "\n",
    "# Create the histogram with ADMIN COSTS on the x-axis and fill by CASE DISPOSITIONS\n",
    "plt.figure(figsize=(12, 6))\n",
    "sns.histplot(data=chicago_filtered, x=\"ADMIN COSTS\", hue=\"CASE DISPOSITION\", multiple=\"stack\", bins=5, palette=\"viridis\")\n",
    "\n",
    "# Label the plot\n",
    "plt.xlabel(\"Administrative Costs ($)\")\n",
    "plt.ylabel(\"Count\")\n",
    "plt.title(\"Distribution of Administrative Costs by Case Disposition\")\n",
    "\n",
    "# Show the plot\n",
    "plt.show()\n"
   ]
  },
  {
   "cell_type": "markdown",
   "id": "107b56ce",
   "metadata": {},
   "source": [
    "Most cases fall within the 0-20 admin cost range, dominated by Non-Suit (Teal) and Not Liable (Green) cases.\n",
    "Liable cases (Dark Blue) dominate the 60-80 and 80-100 admin cost ranges, indicating higher costs.\n",
    "Default cases (Purple) appear in mid-cost ranges (40-80), showing moderate admin costs.\n",
    "Continuance cases (Light Green) are primarily in the lower cost range (0-20).\n",
    "\n",
    "Key Takeaways\n",
    "Majority of cases have admin costs below $20, primarily Non-Suit and Not Liable cases.\n",
    "Liable cases tend to have the highest admin costs, often reaching 60-100.\n",
    "Default cases have moderate admin costs.\n",
    "Continuance cases are relatively low-cost."
   ]
  },
  {
   "cell_type": "code",
   "execution_count": 327,
   "id": "728200ab",
   "metadata": {},
   "outputs": [
    {
     "name": "stdout",
     "output_type": "stream",
     "text": [
      "VIOLATION DESCRIPTION\n",
      "Arrange for inspection of premises. (13-12-100)                                                                                                                                                                                        1612\n",
      "Repair exterior wall. (13-196-010, 13-196-530 B)                                                                                                                                                                                       1139\n",
      "Repair or replace defective or missing members of porch system. (13-196-570)                                                                                                                                                           1117\n",
      "Replace broken, missing or defective window panes. (13-196-550 A)                                                                                                                                                                       825\n",
      "Post name, address, and telephone of owner, owner's agent for managing, controlling or collecting rents, and any other person managing or controlling building conspicuously where accessible or visible to public way. (13-12-030)     732\n",
      "Name: count, dtype: int64\n"
     ]
    }
   ],
   "source": [
    "top_violations = chicago_filtered['VIOLATION DESCRIPTION'].value_counts().nlargest(5)\n",
    "print(top_violations)"
   ]
  },
  {
   "cell_type": "code",
   "execution_count": 328,
   "id": "690f2550",
   "metadata": {},
   "outputs": [],
   "source": [
    "chicago_filtered = chicago_filtered[chicago_filtered['VIOLATION DESCRIPTION'].isin(top_violations.index)]"
   ]
  },
  {
   "cell_type": "markdown",
   "id": "fba4f754",
   "metadata": {},
   "source": [
    "**TASK 14:** . Perform another filtering step. This time, filter your dataset so that only rows with the 5 most\n",
    "common types of Violation Description remain. Right now, you have just a few unique values\n",
    "for Violation Description. What are they?\n",
    "(a) It looks like these are pretty long! Shorten these names in the dataset to something much\n",
    "more manageable – these should become short enough so that they could be used as\n",
    "labels in a visualization. Each description should just be reduced to 1-2 words."
   ]
  },
  {
   "cell_type": "code",
   "execution_count": 333,
   "id": "6da27b57",
   "metadata": {},
   "outputs": [
    {
     "name": "stdout",
     "output_type": "stream",
     "text": [
      "Unique Violation Descriptions: ['Replace window pane' 'Inspection' 'Repair/ replace defect' 'Repair wall'\n",
      " 'address']\n",
      "Top 5 Most Common Violation Descriptions:\n",
      "VIOLATION DESCRIPTION\n",
      "Inspection                1612\n",
      "Repair wall               1139\n",
      "Repair/ replace defect    1117\n",
      "Replace window pane        825\n",
      "address                    732\n",
      "Name: count, dtype: int64\n",
      "Filtered Dataset with Top 5 Violations:\n",
      "                                            ID DOCKET NUMBER   NOV NUMBER  \\\n",
      "40    49b2df9d2c8a6cb728a9f05fdcd66a3da7b634c0    23BT00147A  23SH0975749   \n",
      "527   b9fcecca95d048b9a61b57a90cd8c890939c4814    23BT00223A   23P0675926   \n",
      "856   d639100dab6bf2f1b52b7aad888263ca30855004    22BT00778A   22S0657216   \n",
      "1045  45a3561917d76ce7519da563e1f7079f98d24950    22BT03015A   22S0670090   \n",
      "1178  4b4b17981d7d6fde0012796ab76902a86d84aaaa    22BT02531A   22S0667010   \n",
      "\n",
      "                  ADDRESS  STREET NUMBER STREET DIRECTION STREET NAME  \\\n",
      "40     9156 S ANTHONY AVE           9156                S     ANTHONY   \n",
      "527   7628 S PHILLIPS AVE           7628                S    PHILLIPS   \n",
      "856      7200 S COLES AVE           7200                S       COLES   \n",
      "1045    7523 S YATES BLVD           7523                S       YATES   \n",
      "1178   9754 S BRENNAN AVE           9754                S     BRENNAN   \n",
      "\n",
      "     STREET TYPE  WARD ISSUING DEPARTMENT  ...   VIOLATION DESCRIPTION  \\\n",
      "40           AVE   7.0          Buildings  ...     Replace window pane   \n",
      "527          AVE   7.0          Buildings  ...              Inspection   \n",
      "856          AVE   7.0          Buildings  ...              Inspection   \n",
      "1045        BLVD   7.0          Buildings  ...  Repair/ replace defect   \n",
      "1178         AVE   7.0          Buildings  ...             Repair wall   \n",
      "\n",
      "                                            RESPONDENTS   LATITUDE  LONGITUDE  \\\n",
      "40         C/O WENDRUICK EMILCAR ECLIPSE ASSOCIATES LLC  41.728799 -87.557425   \n",
      "527           7628-30 PHILLIPS LLC C/O ENRICO DEBARTOLO  41.756308 -87.565255   \n",
      "856         C/O LINA AUKSTUOLIS PERSEUS HOLDINGS II LLC  41.765055 -87.563698   \n",
      "1045       CHICAGO TITLE LAND TRUST CO | JUDITH COLLINS  41.758273 -87.566212   \n",
      "1178  BRICKSAVE111 LLC | C/O CT CORPORATION SYSTEM I...  41.717131 -87.567954   \n",
      "\n",
      "                                      LOCATION      Violation_Date  \\\n",
      "40    (41.728799293986356, -87.55742543393707) 2022-12-20 00:00:00   \n",
      "527     (41.7563078181917, -87.56525520390237) 2022-12-16 09:00:00   \n",
      "856     (41.76505512958016, -87.5636984239516) 2022-02-14 09:00:00   \n",
      "1045   (41.75827345244793, -87.56621191885634) 2022-07-28 09:00:00   \n",
      "1178   (41.71713065943011, -87.56795436555612) 2022-07-11 09:00:00   \n",
      "\n",
      "     Hearing_Date City Delay Hearing_Year  Season  \n",
      "40     2023-01-24       35.0       2023.0    Fall  \n",
      "527    2023-02-23       68.0       2023.0    Fall  \n",
      "856    2023-02-23      373.0       2023.0  Winter  \n",
      "1045   2023-03-01      215.0       2023.0  Summer  \n",
      "1178   2022-09-16       66.0       2022.0  Summer  \n",
      "\n",
      "[5 rows x 27 columns]\n"
     ]
    }
   ],
   "source": [
    "import pandas as pd\n",
    "\n",
    "# Assuming chicago_filtered is your DataFrame\n",
    "# Step 1: Identify unique Violation Descriptions\n",
    "unique_violations = chicago_filtered[\"VIOLATION DESCRIPTION\"].unique()\n",
    "print(\"Unique Violation Descriptions:\", unique_violations)\n",
    "\n",
    "# Step 2: Get the 5 most common Violation Descriptions\n",
    "top_violations = chicago_filtered[\"VIOLATION DESCRIPTION\"].value_counts().nlargest(5)\n",
    "print(\"Top 5 Most Common Violation Descriptions:\")\n",
    "print(top_violations)\n",
    "\n",
    "# Step 3: Create a mapping for shortening the descriptions\n",
    "# Based on your 5 most common descriptions, shorten them to 1-2 words\n",
    "violation_map = {\n",
    "    \"Replace broken, missing or defective window panes. (13-196-550 A)\": \"Replace window pane\",  # Replace with actual descriptions and short names\n",
    "    \"Arrange for inspection of premises. (13-12-100)\": \"Inspection\",\n",
    "    \"Repair exterior wall. (13-196-010, 13-196-530 B)\": \"Repair wall\",\n",
    "    \"Repair or replace defective or missing members of porch system. (13-196-570)\": \"Repair/ replace defect\",\n",
    "    \"Post name, address, and telephone of owner, owner's agent for managing, controlling or collecting rents, and any other person managing or controlling building conspicuously where accessible or visible to public way. (13-12-030)\" : \"address\"\n",
    "}\n",
    "\n",
    "# Step 4: Apply the mapping to shorten descriptions in the dataset\n",
    "chicago_filtered[\"VIOLATION DESCRIPTION\"] = chicago_filtered[\"VIOLATION DESCRIPTION\"].replace(violation_map)\n",
    "\n",
    "# Step 5: Filter the dataset to keep only the rows with the top 5 most common descriptions\n",
    "chicago_filtered_top_5 = chicago_filtered[chicago_filtered[\"VIOLATION DESCRIPTION\"].isin(top_violations.index)]\n",
    "\n",
    "# Print the updated dataset to check\n",
    "print(\"Filtered Dataset with Top 5 Violations:\")\n",
    "print(chicago_filtered_top_5.head())"
   ]
  },
  {
   "cell_type": "markdown",
   "id": "6317b506",
   "metadata": {},
   "source": [
    "**TASK 15:** Now, create a barplot that depicts the mean Imposed Fine value for each of these five violation\n",
    "descriptions. Fill the bars with any color of your choice. Arrange the bars either in increasing or\n",
    "decreasing order. What does this plot show? Speculate a bit about why some types of violations\n",
    "may receive larger fines, compared with others."
   ]
  },
  {
   "cell_type": "code",
   "execution_count": 334,
   "id": "c5c8417d",
   "metadata": {},
   "outputs": [
    {
     "data": {
      "image/png": "[encoded data removed]",
      "text/plain": [
       "<Figure size 1000x600 with 1 Axes>"
      ]
     },
     "metadata": {},
     "output_type": "display_data"
    }
   ],
   "source": [
    "import matplotlib.pyplot as plt\n",
    "import seaborn as sns\n",
    "\n",
    "# Step 1: Group by the shortened violation description and calculate mean imposed fine\n",
    "mean_fines = chicago_filtered_top_5.groupby(\"VIOLATION DESCRIPTION\")[\"IMPOSED FINE\"].mean()\n",
    "\n",
    "# Step 2: Sort the values in descending order\n",
    "mean_fines_sorted = mean_fines.sort_values(ascending=False)\n",
    "\n",
    "# Step 3: Create the bar plot\n",
    "plt.figure(figsize=(10, 6))\n",
    "sns.barplot(x=mean_fines_sorted.index, y=mean_fines_sorted.values, color=\"skyblue\")\n",
    "\n",
    "# Step 4: Label the plot\n",
    "plt.xlabel(\"Violation Description\")\n",
    "plt.ylabel(\"Mean Imposed Fine ($)\")\n",
    "plt.title(\"Mean Imposed Fine for Each Violation Description\")\n",
    "\n",
    "# Rotate the x-axis labels for better readability\n",
    "plt.xticks(rotation=45, ha=\"right\")\n",
    "\n",
    "# Step 5: Show the plot\n",
    "plt.show()\n"
   ]
  },
  {
   "cell_type": "markdown",
   "id": "64c4b7c7",
   "metadata": {},
   "source": [
    "Higher fines are likely imposed on violations that pose immediate safety or security risks.\n",
    "Administrative or procedural violations receive relatively lower fines.\n",
    "Authorities might use fines as a deterrent, making costlier repairs mandatory to maintain public safety.\n",
    "\n",
    "Key Observations\n",
    "\"Replace window pane\" has the highest mean fine (~$1500).\n",
    "\"Repair/replace defect\" follows with a fine of around $1200.\n",
    "\"Address\", \"Repair wall\", and \"Inspection\" have lower fines, with \"Inspection\" being the least expensive (~$800).\n",
    "The variation in fines suggests that some violations are considered more serious than others.\n",
    "\n",
    "Possible Reasons for Fine Variations\n",
    "Safety and Structural Impact\n",
    "Replacing a window pane might be associated with potential safety hazards, like broken glass, which could be dangerous to occupants and pedestrians. This could explain why it has the highest fine.\n",
    "Repairing walls and defects may also be significant, but they might pose less immediate danger compared to broken windows.\n",
    "Severity of Non-Compliance\n",
    "Violations like \"address\" may be administrative issues, which could explain their slightly lower fines.\n",
    "Inspection-related violations likely incur lower fines since they might not be about structural damage but rather procedural compliance.\n",
    "Cost of Repair vs. Fine Amount\n",
    "If certain repairs (like window replacement) are expensive and urgent, authorities may impose heavier fines to encourage quick resolution.\n",
    "Minor violations (like inspection issues) might be easier to fix, resulting in lower fines.\n",
    "Impact on Public and Property Safety\n",
    "A damaged window can lead to security risks (e.g., break-ins, injuries from broken glass), justifying a high fine.\n",
    "Inspection-related issues may be more about documentation rather than immediate threats, leading to lower penalties."
   ]
  },
  {
   "cell_type": "markdown",
   "id": "d5400af0",
   "metadata": {},
   "source": [
    "**TASK 16:** Write this statement here: My assignment submission includes the following:\n",
    "(a) A file containing code\n",
    "(b) A write-up in a PDF that clearly includes all of my code, results, and interpretation statements, together"
   ]
  }
 ],
 "metadata": {
  "kernelspec": {
   "display_name": "Python 3 (ipykernel)",
   "language": "python",
   "name": "python3"
  },
  "language_info": {
   "codemirror_mode": {
    "name": "ipython",
    "version": 3
   },
   "file_extension": ".py",
   "mimetype": "text/x-python",
   "name": "python",
   "nbconvert_exporter": "python",
   "pygments_lexer": "ipython3",
   "version": "3.13.1"
  }
 },
 "nbformat": 4,
 "nbformat_minor": 5
}
